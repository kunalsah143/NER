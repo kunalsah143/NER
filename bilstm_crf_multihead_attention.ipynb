{
  "nbformat": 4,
  "nbformat_minor": 0,
  "metadata": {
    "colab": {
      "name": "bilstm_crf_multihead_attention.ipynb",
      "provenance": [],
      "collapsed_sections": []
    },
    "kernelspec": {
      "name": "python3",
      "display_name": "Python 3"
    },
    "language_info": {
      "name": "python"
    },
    "accelerator": "GPU"
  },
  "cells": [
    {
      "cell_type": "code",
      "metadata": {
        "colab": {
          "base_uri": "https://localhost:8080/"
        },
        "id": "BOlm5mQTSxbu",
        "outputId": "ad2ddf0f-04d1-4415-e239-aed985272861"
      },
      "source": [
        "import pandas as pd\n",
        "import numpy as np\n",
        "import torch\n",
        "import matplotlib.pyplot as plt\n",
        "\n",
        "import pandas as pd\n",
        "import numpy as np\n",
        "import os\n",
        "import matplotlib.pyplot as plt\n",
        "\n",
        "# !pip install contractions\n",
        "# import contractions\n",
        "import string\n",
        "import nltk\n",
        "nltk.download('punkt')\n",
        "from nltk.tokenize import word_tokenize\n",
        "from nltk.corpus import stopwords\n",
        "\n",
        "from tensorflow.python.keras.preprocessing.text import Tokenizer\n",
        "from tensorflow.python.keras.preprocessing.sequence import pad_sequences\n",
        "\n",
        "import torch\n",
        "import torch.nn as nn\n",
        "import torch.nn.functional as F\n",
        "import torch.optim as optim\n",
        "\n",
        "device = torch.device('cuda' if torch.cuda.is_available() else 'cpu')\n",
        "\n",
        "\n",
        "from absl import logging\n",
        "import tensorflow as tf\n",
        "import tensorflow_hub as hub\n",
        "\n",
        "import re    #module for regular expression operations\n",
        "import seaborn as sns"
      ],
      "execution_count": null,
      "outputs": [
        {
          "output_type": "stream",
          "name": "stdout",
          "text": [
            "[nltk_data] Downloading package punkt to /root/nltk_data...\n",
            "[nltk_data]   Package punkt is already up-to-date!\n"
          ]
        }
      ]
    },
    {
      "cell_type": "code",
      "metadata": {
        "colab": {
          "base_uri": "https://localhost:8080/",
          "height": 204
        },
        "id": "b6_VUGzkTHEo",
        "outputId": "504f6284-1a29-4317-fe99-48a76de6a684"
      },
      "source": [
        "Data = pd.read_csv('TrainData.csv')\n",
        "# Data['Sentences'] = Data['Sentences'].apply(lambda x: '<sos>'+x+'<eos>')\n",
        "# Data['Tags'] = Data['Tags'].apply(lambda x: )\n",
        "Data.head()"
      ],
      "execution_count": null,
      "outputs": [
        {
          "output_type": "execute_result",
          "data": {
            "text/html": [
              "<div>\n",
              "<style scoped>\n",
              "    .dataframe tbody tr th:only-of-type {\n",
              "        vertical-align: middle;\n",
              "    }\n",
              "\n",
              "    .dataframe tbody tr th {\n",
              "        vertical-align: top;\n",
              "    }\n",
              "\n",
              "    .dataframe thead th {\n",
              "        text-align: right;\n",
              "    }\n",
              "</style>\n",
              "<table border=\"1\" class=\"dataframe\">\n",
              "  <thead>\n",
              "    <tr style=\"text-align: right;\">\n",
              "      <th></th>\n",
              "      <th>Sentences</th>\n",
              "      <th>Tags</th>\n",
              "    </tr>\n",
              "  </thead>\n",
              "  <tbody>\n",
              "    <tr>\n",
              "      <th>0</th>\n",
              "      <td>what movies star bruce willis</td>\n",
              "      <td>O O O B-ACTOR I-ACTOR</td>\n",
              "    </tr>\n",
              "    <tr>\n",
              "      <th>1</th>\n",
              "      <td>show me films with drew barrymore from the 1980s</td>\n",
              "      <td>O O O O B-ACTOR I-ACTOR O O B-YEAR</td>\n",
              "    </tr>\n",
              "    <tr>\n",
              "      <th>2</th>\n",
              "      <td>what movies starred both al pacino and robert ...</td>\n",
              "      <td>O O O O B-ACTOR I-ACTOR O B-ACTOR I-ACTOR</td>\n",
              "    </tr>\n",
              "    <tr>\n",
              "      <th>3</th>\n",
              "      <td>find me all of the movies that starred harold ...</td>\n",
              "      <td>O O O O O O O O B-ACTOR I-ACTOR O B-ACTOR I-ACTOR</td>\n",
              "    </tr>\n",
              "    <tr>\n",
              "      <th>4</th>\n",
              "      <td>find me a movie with a quote about baseball in it</td>\n",
              "      <td>O O O O O O O O O O O</td>\n",
              "    </tr>\n",
              "  </tbody>\n",
              "</table>\n",
              "</div>"
            ],
            "text/plain": [
              "                                           Sentences                                               Tags\n",
              "0                      what movies star bruce willis                              O O O B-ACTOR I-ACTOR\n",
              "1   show me films with drew barrymore from the 1980s                 O O O O B-ACTOR I-ACTOR O O B-YEAR\n",
              "2  what movies starred both al pacino and robert ...          O O O O B-ACTOR I-ACTOR O B-ACTOR I-ACTOR\n",
              "3  find me all of the movies that starred harold ...  O O O O O O O O B-ACTOR I-ACTOR O B-ACTOR I-ACTOR\n",
              "4  find me a movie with a quote about baseball in it                              O O O O O O O O O O O"
            ]
          },
          "metadata": {},
          "execution_count": 347
        }
      ]
    },
    {
      "cell_type": "markdown",
      "metadata": {
        "id": "vzEf88y9WYs4"
      },
      "source": [
        "**Train-Test-Val split**"
      ]
    },
    {
      "cell_type": "code",
      "metadata": {
        "id": "Yjm5wCwoUoBV"
      },
      "source": [
        "val_split = 0.2\n",
        "N = Data.values.shape[0]\n",
        "train_data = Data.values[int(N*val_split):,0:2]\n",
        "test_data = pd.read_csv(\"./TestData.csv\").values"
      ],
      "execution_count": null,
      "outputs": []
    },
    {
      "cell_type": "code",
      "metadata": {
        "id": "iiBTEORLU49n"
      },
      "source": [
        "val_data = train_data[:int(N*val_split),0:2]"
      ],
      "execution_count": null,
      "outputs": []
    },
    {
      "cell_type": "code",
      "metadata": {
        "colab": {
          "base_uri": "https://localhost:8080/"
        },
        "id": "qelwpMu_Vq6k",
        "outputId": "9ef96ab8-c605-4132-8668-565161f4f0ca"
      },
      "source": [
        "print(val_data.shape[0]+train_data.shape[0],N,test_data.shape[0])"
      ],
      "execution_count": null,
      "outputs": [
        {
          "output_type": "stream",
          "name": "stdout",
          "text": [
            "9775 9775 2443\n"
          ]
        }
      ]
    },
    {
      "cell_type": "code",
      "metadata": {
        "colab": {
          "base_uri": "https://localhost:8080/"
        },
        "id": "VZv7EF4nW_2_",
        "outputId": "e10e5f7a-afea-480a-f191-f60995ab7cea"
      },
      "source": [
        "print(train_data.shape)\n",
        "print(val_data.shape)\n",
        "print(test_data.shape)"
      ],
      "execution_count": null,
      "outputs": [
        {
          "output_type": "stream",
          "name": "stdout",
          "text": [
            "(7820, 2)\n",
            "(1955, 2)\n",
            "(2443, 2)\n"
          ]
        }
      ]
    },
    {
      "cell_type": "code",
      "metadata": {
        "id": "E0aRmChRXp5v"
      },
      "source": [
        "train_d , train_l = [i.split(' ') for i in train_data[:,0]], [i.split(' ') for i in train_data[:,1]]\n",
        "val_d , val_l = [i.split(' ') for i in val_data[:,0]], [i.split(' ') for i in val_data[:,1]]\n",
        "test_d , test_l = [i.split(' ') for i in test_data[:,0]], [i.split(' ') for i in test_data[:,1]]"
      ],
      "execution_count": null,
      "outputs": []
    },
    {
      "cell_type": "code",
      "metadata": {
        "colab": {
          "base_uri": "https://localhost:8080/"
        },
        "id": "MUfRFac2dQaH",
        "outputId": "80d350bc-9d2b-498d-8a5f-7e1c1d4620d1"
      },
      "source": [
        "print('train wrong data')\n",
        "for i in range(len(train_d)):\n",
        "  if len(train_d[i])!=len(train_l[i]):\n",
        "    print(len(train_d[i]), len(train_l[i]),'indx:',i)\n",
        "print('val wrong data')\n",
        "for i in range(len(val_d)):\n",
        "  if len(val_d[i])!=len(val_l[i]):\n",
        "    print(len(val_d[i]), len(val_l[i]),'indx:',i)\n",
        "print('test wrong data')\n",
        "for i in range(len(test_d)):\n",
        "  if len(test_d[i])!=len(test_l[i]):\n",
        "    print(len(test_d[i]), len(test_l[i]),'indx:',i)"
      ],
      "execution_count": null,
      "outputs": [
        {
          "output_type": "stream",
          "name": "stdout",
          "text": [
            "train wrong data\n",
            "val wrong data\n",
            "test wrong data\n"
          ]
        }
      ]
    },
    {
      "cell_type": "code",
      "metadata": {
        "colab": {
          "base_uri": "https://localhost:8080/",
          "height": 282
        },
        "id": "ALF-2zf_mE76",
        "outputId": "95aefdf2-1d49-43f7-e9a9-47bb78e333fa"
      },
      "source": [
        "plt.plot([len(sentence) for sentence in train_d])"
      ],
      "execution_count": null,
      "outputs": [
        {
          "output_type": "execute_result",
          "data": {
            "text/plain": [
              "[<matplotlib.lines.Line2D at 0x7ff2ed7b0fd0>]"
            ]
          },
          "metadata": {},
          "execution_count": 354
        },
        {
          "output_type": "display_data",
          "data": {
            "image/png": "[encoded data removed]",
            "text/plain": [
              "<Figure size 432x288 with 1 Axes>"
            ]
          },
          "metadata": {
            "needs_background": "light"
          }
        }
      ]
    },
    {
      "cell_type": "code",
      "metadata": {
        "colab": {
          "base_uri": "https://localhost:8080/",
          "height": 282
        },
        "id": "IRanS_OzmZmj",
        "outputId": "83103a81-f858-47c0-b5c4-c4dd9dfc01a6"
      },
      "source": [
        "plt.plot([len(sentence) for sentence in val_d])"
      ],
      "execution_count": null,
      "outputs": [
        {
          "output_type": "execute_result",
          "data": {
            "text/plain": [
              "[<matplotlib.lines.Line2D at 0x7ff2ed2f4750>]"
            ]
          },
          "metadata": {},
          "execution_count": 355
        },
        {
          "output_type": "display_data",
          "data": {
            "image/png": "[encoded data removed]",
            "text/plain": [
              "<Figure size 432x288 with 1 Axes>"
            ]
          },
          "metadata": {
            "needs_background": "light"
          }
        }
      ]
    },
    {
      "cell_type": "code",
      "metadata": {
        "colab": {
          "base_uri": "https://localhost:8080/",
          "height": 282
        },
        "id": "g2kABRelmZpZ",
        "outputId": "15810afb-fe3e-419a-bb49-b5014eaac90c"
      },
      "source": [
        "plt.plot([len(sentence) for sentence in test_d])"
      ],
      "execution_count": null,
      "outputs": [
        {
          "output_type": "execute_result",
          "data": {
            "text/plain": [
              "[<matplotlib.lines.Line2D at 0x7ff2ed1421d0>]"
            ]
          },
          "metadata": {},
          "execution_count": 356
        },
        {
          "output_type": "display_data",
          "data": {
            "image/png": "[encoded data removed]",
            "text/plain": [
              "<Figure size 432x288 with 1 Axes>"
            ]
          },
          "metadata": {
            "needs_background": "light"
          }
        }
      ]
    },
    {
      "cell_type": "code",
      "metadata": {
        "colab": {
          "base_uri": "https://localhost:8080/"
        },
        "id": "8xqr0L2pknB1",
        "outputId": "c0efd248-5944-4ae5-8dda-0373e8d779b3"
      },
      "source": [
        "max_length = 30\n",
        "\n",
        "tokenizer = Tokenizer()\n",
        "tokenizer.fit_on_texts(train_d + val_d)\n",
        "sequences = tokenizer.texts_to_sequences(train_d + val_d)\n",
        "\n",
        "word_index = tokenizer.word_index\n",
        "print(\"unique tokens except pad_token- \"+str(len(word_index)))\n",
        "vocab_size = len(tokenizer.word_index) + 1  #  with pad_token\n",
        "print('vocab_size - '+str(vocab_size))"
      ],
      "execution_count": null,
      "outputs": [
        {
          "output_type": "stream",
          "name": "stdout",
          "text": [
            "unique tokens except pad_token- 5969\n",
            "vocab_size - 5970\n"
          ]
        }
      ]
    },
    {
      "cell_type": "code",
      "metadata": {
        "colab": {
          "base_uri": "https://localhost:8080/"
        },
        "id": "psxn8gsbn6It",
        "outputId": "a8ab9bce-3844-4be2-e8c3-13dcb07a34d2"
      },
      "source": [
        "padded_lines = pad_sequences(sequences, maxlen=max_length, padding='post')\n",
        "\n",
        "x_train_pad = padded_lines[0:-len(val_d)]\n",
        "x_val_pad = padded_lines[-len(val_d):]\n",
        "print(type(x_train_pad))"
      ],
      "execution_count": null,
      "outputs": [
        {
          "output_type": "stream",
          "name": "stdout",
          "text": [
            "<class 'numpy.ndarray'>\n"
          ]
        }
      ]
    },
    {
      "cell_type": "code",
      "metadata": {
        "id": "xacr6ve5oRNu"
      },
      "source": [
        "test_sequences = tokenizer.texts_to_sequences(test_d)\n",
        "x_test_pad = pad_sequences(test_sequences, maxlen=max_length, padding = 'post')\n",
        "X_test_pad = []\n",
        "test_L = []\n",
        "for k,i in enumerate(x_test_pad):\n",
        "  if np.all(i==0)==False:\n",
        "    X_test_pad.append(i)\n",
        "    test_L.append(test_l[k])\n",
        "\n",
        "x_test_pad = np.array(X_test_pad)\n",
        "# test_l = np.array(test_L)\n",
        "\n",
        "# label_sequences = label_tokenizer.texts_to_sequences(test_L)\n",
        "# y_test_pad = pad_sequences(label_sequences, maxlen=max_length, padding='post')\n",
        "\n",
        "# print(type(y_test_pad))"
      ],
      "execution_count": null,
      "outputs": []
    },
    {
      "cell_type": "code",
      "metadata": {
        "id": "03gYfO6hv3Fv",
        "colab": {
          "base_uri": "https://localhost:8080/"
        },
        "outputId": "67176849-3769-413d-e1cb-4e04f44684a3"
      },
      "source": [
        "label_tokenizer = Tokenizer()\n",
        "label_tokenizer.fit_on_texts(train_l + val_l)\n",
        "label_sequences = label_tokenizer.texts_to_sequences(train_l + val_l)\n",
        "\n",
        "label_tokenizer.word_index['<pad>'] = 0\n",
        "label_index = label_tokenizer.word_index\n",
        "print(\"unique tokens except pad_token- \"+str(len(label_index)))\n",
        "label_vocab_size = len(label_tokenizer.word_index)  #  pad_token at 0th index\n",
        "print('vocab_size - '+str(label_vocab_size))\n",
        "# label_index[\"<pad>\"] = 0\n",
        "\n",
        "padded_lines = pad_sequences(label_sequences, maxlen=max_length, padding='post')\n",
        "\n",
        "y_train_pad = padded_lines[0:-len(val_d)]\n",
        "y_val_pad = padded_lines[-len(val_d):]\n",
        "print(type(y_train_pad))\n",
        "\n",
        "\n",
        "label_sequences = label_tokenizer.texts_to_sequences(test_L)\n",
        "y_test_pad = pad_sequences(label_sequences, maxlen=max_length, padding='post')\n",
        "print(type(y_test_pad))"
      ],
      "execution_count": null,
      "outputs": [
        {
          "output_type": "stream",
          "name": "stdout",
          "text": [
            "unique tokens except pad_token- 26\n",
            "vocab_size - 26\n",
            "<class 'numpy.ndarray'>\n",
            "<class 'numpy.ndarray'>\n"
          ]
        }
      ]
    },
    {
      "cell_type": "code",
      "metadata": {
        "colab": {
          "base_uri": "https://localhost:8080/"
        },
        "id": "KxyYey2oxEq_",
        "outputId": "cd1d1d85-1387-4708-d56e-7160a1376d6a"
      },
      "source": [
        "label_tokenizer.word_index"
      ],
      "execution_count": null,
      "outputs": [
        {
          "output_type": "execute_result",
          "data": {
            "text/plain": [
              "{'<pad>': 0,\n",
              " 'b-actor': 4,\n",
              " 'b-character': 19,\n",
              " 'b-director': 15,\n",
              " 'b-genre': 2,\n",
              " 'b-plot': 10,\n",
              " 'b-rating': 11,\n",
              " 'b-ratings_average': 13,\n",
              " 'b-review': 22,\n",
              " 'b-song': 21,\n",
              " 'b-title': 8,\n",
              " 'b-trailer': 24,\n",
              " 'b-year': 6,\n",
              " 'i-actor': 3,\n",
              " 'i-character': 20,\n",
              " 'i-director': 12,\n",
              " 'i-genre': 17,\n",
              " 'i-plot': 9,\n",
              " 'i-rating': 16,\n",
              " 'i-ratings_average': 14,\n",
              " 'i-review': 23,\n",
              " 'i-song': 18,\n",
              " 'i-title': 5,\n",
              " 'i-trailer': 25,\n",
              " 'i-year': 7,\n",
              " 'o': 1}"
            ]
          },
          "metadata": {},
          "execution_count": 361
        }
      ]
    },
    {
      "cell_type": "code",
      "metadata": {
        "id": "8KanJFgG9L5W",
        "colab": {
          "base_uri": "https://localhost:8080/"
        },
        "outputId": "3415bcff-67a6-48b9-adf9-129049e9859c"
      },
      "source": [
        "!pip install torchkeras\n",
        "!pip install pytorch-crf"
      ],
      "execution_count": null,
      "outputs": [
        {
          "output_type": "stream",
          "name": "stdout",
          "text": [
            "Requirement already satisfied: torchkeras in /usr/local/lib/python3.7/dist-packages (2.1.2)\n",
            "Requirement already satisfied: pandas in /usr/local/lib/python3.7/dist-packages (from torchkeras) (1.1.5)\n",
            "Requirement already satisfied: prettytable in /usr/local/lib/python3.7/dist-packages (from torchkeras) (2.2.0)\n",
            "Requirement already satisfied: pytorch-lightning in /usr/local/lib/python3.7/dist-packages (from torchkeras) (1.4.7)\n",
            "Requirement already satisfied: tqdm in /usr/local/lib/python3.7/dist-packages (from torchkeras) (4.62.2)\n",
            "Requirement already satisfied: numpy>=1.15.4 in /usr/local/lib/python3.7/dist-packages (from pandas->torchkeras) (1.19.5)\n",
            "Requirement already satisfied: pytz>=2017.2 in /usr/local/lib/python3.7/dist-packages (from pandas->torchkeras) (2018.9)\n",
            "Requirement already satisfied: python-dateutil>=2.7.3 in /usr/local/lib/python3.7/dist-packages (from pandas->torchkeras) (2.8.2)\n",
            "Requirement already satisfied: six>=1.5 in /usr/local/lib/python3.7/dist-packages (from python-dateutil>=2.7.3->pandas->torchkeras) (1.15.0)\n",
            "Requirement already satisfied: wcwidth in /usr/local/lib/python3.7/dist-packages (from prettytable->torchkeras) (0.2.5)\n",
            "Requirement already satisfied: importlib-metadata in /usr/local/lib/python3.7/dist-packages (from prettytable->torchkeras) (4.8.1)\n",
            "Requirement already satisfied: zipp>=0.5 in /usr/local/lib/python3.7/dist-packages (from importlib-metadata->prettytable->torchkeras) (3.5.0)\n",
            "Requirement already satisfied: typing-extensions>=3.6.4 in /usr/local/lib/python3.7/dist-packages (from importlib-metadata->prettytable->torchkeras) (3.7.4.3)\n",
            "Requirement already satisfied: torch>=1.6 in /usr/local/lib/python3.7/dist-packages (from pytorch-lightning->torchkeras) (1.9.0+cu102)\n",
            "Requirement already satisfied: fsspec[http]!=2021.06.0,>=2021.05.0 in /usr/local/lib/python3.7/dist-packages (from pytorch-lightning->torchkeras) (2021.8.1)\n",
            "Requirement already satisfied: packaging>=17.0 in /usr/local/lib/python3.7/dist-packages (from pytorch-lightning->torchkeras) (21.0)\n",
            "Requirement already satisfied: PyYAML>=5.1 in /usr/local/lib/python3.7/dist-packages (from pytorch-lightning->torchkeras) (5.4.1)\n",
            "Requirement already satisfied: future>=0.17.1 in /usr/local/lib/python3.7/dist-packages (from pytorch-lightning->torchkeras) (0.18.2)\n",
            "Requirement already satisfied: torchmetrics>=0.4.0 in /usr/local/lib/python3.7/dist-packages (from pytorch-lightning->torchkeras) (0.5.1)\n",
            "Requirement already satisfied: pyDeprecate==0.3.1 in /usr/local/lib/python3.7/dist-packages (from pytorch-lightning->torchkeras) (0.3.1)\n",
            "Requirement already satisfied: tensorboard>=2.2.0 in /usr/local/lib/python3.7/dist-packages (from pytorch-lightning->torchkeras) (2.6.0)\n",
            "Requirement already satisfied: requests in /usr/local/lib/python3.7/dist-packages (from fsspec[http]!=2021.06.0,>=2021.05.0->pytorch-lightning->torchkeras) (2.23.0)\n",
            "Requirement already satisfied: aiohttp in /usr/local/lib/python3.7/dist-packages (from fsspec[http]!=2021.06.0,>=2021.05.0->pytorch-lightning->torchkeras) (3.7.4.post0)\n",
            "Requirement already satisfied: pyparsing>=2.0.2 in /usr/local/lib/python3.7/dist-packages (from packaging>=17.0->pytorch-lightning->torchkeras) (2.4.7)\n",
            "Requirement already satisfied: grpcio>=1.24.3 in /usr/local/lib/python3.7/dist-packages (from tensorboard>=2.2.0->pytorch-lightning->torchkeras) (1.40.0)\n",
            "Requirement already satisfied: tensorboard-data-server<0.7.0,>=0.6.0 in /usr/local/lib/python3.7/dist-packages (from tensorboard>=2.2.0->pytorch-lightning->torchkeras) (0.6.1)\n",
            "Requirement already satisfied: wheel>=0.26 in /usr/local/lib/python3.7/dist-packages (from tensorboard>=2.2.0->pytorch-lightning->torchkeras) (0.37.0)\n",
            "Requirement already satisfied: markdown>=2.6.8 in /usr/local/lib/python3.7/dist-packages (from tensorboard>=2.2.0->pytorch-lightning->torchkeras) (3.3.4)\n",
            "Requirement already satisfied: absl-py>=0.4 in /usr/local/lib/python3.7/dist-packages (from tensorboard>=2.2.0->pytorch-lightning->torchkeras) (0.12.0)\n",
            "Requirement already satisfied: setuptools>=41.0.0 in /usr/local/lib/python3.7/dist-packages (from tensorboard>=2.2.0->pytorch-lightning->torchkeras) (57.4.0)\n",
            "Requirement already satisfied: google-auth<2,>=1.6.3 in /usr/local/lib/python3.7/dist-packages (from tensorboard>=2.2.0->pytorch-lightning->torchkeras) (1.35.0)\n",
            "Requirement already satisfied: tensorboard-plugin-wit>=1.6.0 in /usr/local/lib/python3.7/dist-packages (from tensorboard>=2.2.0->pytorch-lightning->torchkeras) (1.8.0)\n",
            "Requirement already satisfied: werkzeug>=0.11.15 in /usr/local/lib/python3.7/dist-packages (from tensorboard>=2.2.0->pytorch-lightning->torchkeras) (1.0.1)\n",
            "Requirement already satisfied: google-auth-oauthlib<0.5,>=0.4.1 in /usr/local/lib/python3.7/dist-packages (from tensorboard>=2.2.0->pytorch-lightning->torchkeras) (0.4.6)\n",
            "Requirement already satisfied: protobuf>=3.6.0 in /usr/local/lib/python3.7/dist-packages (from tensorboard>=2.2.0->pytorch-lightning->torchkeras) (3.17.3)\n",
            "Requirement already satisfied: cachetools<5.0,>=2.0.0 in /usr/local/lib/python3.7/dist-packages (from google-auth<2,>=1.6.3->tensorboard>=2.2.0->pytorch-lightning->torchkeras) (4.2.2)\n",
            "Requirement already satisfied: pyasn1-modules>=0.2.1 in /usr/local/lib/python3.7/dist-packages (from google-auth<2,>=1.6.3->tensorboard>=2.2.0->pytorch-lightning->torchkeras) (0.2.8)\n",
            "Requirement already satisfied: rsa<5,>=3.1.4 in /usr/local/lib/python3.7/dist-packages (from google-auth<2,>=1.6.3->tensorboard>=2.2.0->pytorch-lightning->torchkeras) (4.7.2)\n",
            "Requirement already satisfied: requests-oauthlib>=0.7.0 in /usr/local/lib/python3.7/dist-packages (from google-auth-oauthlib<0.5,>=0.4.1->tensorboard>=2.2.0->pytorch-lightning->torchkeras) (1.3.0)\n",
            "Requirement already satisfied: pyasn1<0.5.0,>=0.4.6 in /usr/local/lib/python3.7/dist-packages (from pyasn1-modules>=0.2.1->google-auth<2,>=1.6.3->tensorboard>=2.2.0->pytorch-lightning->torchkeras) (0.4.8)\n",
            "Requirement already satisfied: idna<3,>=2.5 in /usr/local/lib/python3.7/dist-packages (from requests->fsspec[http]!=2021.06.0,>=2021.05.0->pytorch-lightning->torchkeras) (2.10)\n",
            "Requirement already satisfied: chardet<4,>=3.0.2 in /usr/local/lib/python3.7/dist-packages (from requests->fsspec[http]!=2021.06.0,>=2021.05.0->pytorch-lightning->torchkeras) (3.0.4)\n",
            "Requirement already satisfied: certifi>=2017.4.17 in /usr/local/lib/python3.7/dist-packages (from requests->fsspec[http]!=2021.06.0,>=2021.05.0->pytorch-lightning->torchkeras) (2021.5.30)\n",
            "Requirement already satisfied: urllib3!=1.25.0,!=1.25.1,<1.26,>=1.21.1 in /usr/local/lib/python3.7/dist-packages (from requests->fsspec[http]!=2021.06.0,>=2021.05.0->pytorch-lightning->torchkeras) (1.24.3)\n",
            "Requirement already satisfied: oauthlib>=3.0.0 in /usr/local/lib/python3.7/dist-packages (from requests-oauthlib>=0.7.0->google-auth-oauthlib<0.5,>=0.4.1->tensorboard>=2.2.0->pytorch-lightning->torchkeras) (3.1.1)\n",
            "Requirement already satisfied: attrs>=17.3.0 in /usr/local/lib/python3.7/dist-packages (from aiohttp->fsspec[http]!=2021.06.0,>=2021.05.0->pytorch-lightning->torchkeras) (21.2.0)\n",
            "Requirement already satisfied: async-timeout<4.0,>=3.0 in /usr/local/lib/python3.7/dist-packages (from aiohttp->fsspec[http]!=2021.06.0,>=2021.05.0->pytorch-lightning->torchkeras) (3.0.1)\n",
            "Requirement already satisfied: multidict<7.0,>=4.5 in /usr/local/lib/python3.7/dist-packages (from aiohttp->fsspec[http]!=2021.06.0,>=2021.05.0->pytorch-lightning->torchkeras) (5.1.0)\n",
            "Requirement already satisfied: yarl<2.0,>=1.0 in /usr/local/lib/python3.7/dist-packages (from aiohttp->fsspec[http]!=2021.06.0,>=2021.05.0->pytorch-lightning->torchkeras) (1.6.3)\n",
            "Requirement already satisfied: pytorch-crf in /usr/local/lib/python3.7/dist-packages (0.7.2)\n"
          ]
        }
      ]
    },
    {
      "cell_type": "code",
      "metadata": {
        "id": "03PI0GGl83zn"
      },
      "source": [
        "import torchkeras \n",
        "from torchcrf import CRF"
      ],
      "execution_count": null,
      "outputs": []
    },
    {
      "cell_type": "code",
      "metadata": {
        "id": "0lHoTT3xtJ5M"
      },
      "source": [
        "batch_size = 32\n",
        "size = x_train_pad.shape[0]\n",
        "X_train_batched = np.array_split(x_train_pad,size//batch_size)\n",
        "y_train_batched = np.array_split(y_train_pad,size//batch_size)\n",
        "\n",
        "X_val_batched = np.array_split(x_val_pad,size//batch_size)\n",
        "y_val_batched = np.array_split(y_val_pad,size//batch_size)\n",
        "n_steps = len(X_train_batched)\n",
        "\n",
        "\n",
        "size = x_test_pad.shape[0]\n",
        "x_test_batched = np.array_split(x_test_pad,size//batch_size)\n",
        "y_test_batched = np.array_split(y_test_pad,size//batch_size)"
      ],
      "execution_count": null,
      "outputs": []
    },
    {
      "cell_type": "code",
      "metadata": {
        "colab": {
          "base_uri": "https://localhost:8080/"
        },
        "id": "Fwap_bwcmqWL",
        "outputId": "5bfd6496-69fc-4e3e-99d2-2dc7bf15bf25"
      },
      "source": [
        "X_train_batched[10].shape"
      ],
      "execution_count": null,
      "outputs": [
        {
          "output_type": "execute_result",
          "data": {
            "text/plain": [
              "(33, 30)"
            ]
          },
          "metadata": {},
          "execution_count": 365
        }
      ]
    },
    {
      "cell_type": "code",
      "metadata": {
        "colab": {
          "base_uri": "https://localhost:8080/"
        },
        "id": "6GLa43RKnnw4",
        "outputId": "d0bd2544-8ec5-4ff9-c39a-b93c1f87b59f"
      },
      "source": [
        "print(len(X_train_batched),n_steps)\n",
        "label_vocab_size"
      ],
      "execution_count": null,
      "outputs": [
        {
          "output_type": "stream",
          "name": "stdout",
          "text": [
            "244 244\n"
          ]
        },
        {
          "output_type": "execute_result",
          "data": {
            "text/plain": [
              "26"
            ]
          },
          "metadata": {},
          "execution_count": 366
        }
      ]
    },
    {
      "cell_type": "code",
      "metadata": {
        "id": "mgcp94Rj-Tne"
      },
      "source": [
        "embedding_dim = 100\n",
        "hidden_size = 64\n",
        "# batch_size = 32\n",
        "pad_id = 0"
      ],
      "execution_count": null,
      "outputs": []
    },
    {
      "cell_type": "code",
      "metadata": {
        "id": "RjCuk0PIjl7I"
      },
      "source": [
        "class BiLSTM_CRF(torch.nn.Module):\n",
        "    def __init__(self, vocab_size, hidden_size, embedding_dim,hidden_dim,device):\n",
        "        super(BiLSTM_CRF, self).__init__()\n",
        "\n",
        "        self.hidden_size = hidden_size\n",
        "\n",
        "        self.embedding = torch.nn.Embedding(num_embeddings=vocab_size, embedding_dim=embedding_dim, padding_idx=pad_id)\n",
        "        self.bi_lstm = torch.nn.LSTM(input_size=embedding_dim, hidden_size=hidden_size // 2, batch_first=True,\n",
        "                                     bidirectional=True)  # , dropout=0.2)\n",
        "\n",
        "        \n",
        "        self.hidden2tag = torch.nn.Linear(hidden_size, label_vocab_size) # excludes pad\n",
        "\n",
        "        self.crf = CRF(num_tags=label_vocab_size , batch_first=True).to(device)\n",
        "\n",
        "    def init_hidden(self, batch_size):\n",
        "        return (torch.randn(2, batch_size, self.hidden_size // 2, device=device),\n",
        "                torch.randn(2, batch_size, self.hidden_size // 2, device=device))  # ([batch=1,2,hidden_size//2], [batch=1,2,hidden_size//2])\n",
        "\n",
        "    def forward(self, inp):  # inp [batch, seq_len=30], embedding_dim = 100\n",
        "        self.bi_lstm.flatten_parameters()\n",
        "\n",
        "        embeds = self.embedding(inp)  # [batch,seq_len]=>[batch, seq_len, embedding_dim]\n",
        "        lstm_out, _ = self.bi_lstm(embeds, None)  # lstm_out: =>[batch, seq_len, hidden_size],\n",
        "        # lstm_out, self.hidden = self.bi_lstm(embeds, self.hidden)  # lstm_out: =>[batch, seq_len, hidden_size],\n",
        "        # h_n: ([batch,2,hidden_size//2], c_n: [batch,2,hidden_size//2])\n",
        "\n",
        "        logits = self.hidden2tag(lstm_out)  # [batch, seq_len, hidden_size]=>[batch, seq_len, tags_num]\n",
        "        return logits # [batch, seq_len=30, tags_num=25]\n",
        "\n",
        "    # Calculates the CRF conditional logarithmic likelihood and returns its negative value as loss\n",
        "    def crf_neg_log_likelihood(self, inp, tags, mask=None, inp_logits=False):  # [batch, seq_len, tags_num], [batch, seq_len]\n",
        "        if inp_logits:\n",
        "            logits = inp\n",
        "        else:\n",
        "            logits = self.forward(inp)\n",
        "\n",
        "        if mask is None:\n",
        "            mask = torch.logical_not(torch.eq(tags.long(), torch.tensor(0)))  # =>[batch, seq_Len], each element is a bool value, and if there is a pad in the sequence, the corresponding position of the mask is False\n",
        "            mask = mask.type(torch.bool)\n",
        "\n",
        "        # print(logits.shape,tags.shape)\n",
        "        crf_llh = self.crf(logits, tags.long(), mask, reduction='sum') # Compute the conditional log likelihood of a sequence of tags given emission scores\n",
        "        # crf_llh = self.crf(logits, tags, mask) # Compute the conditional log likelihood of a sequence of tags given emission scores\n",
        "        return -crf_llh\n",
        "\n",
        "    def crf_decode(self, inp, mask=None, inp_logits=False):\n",
        "        if inp_logits:\n",
        "            logits = inp\n",
        "        else:\n",
        "            logits = self.forward(inp)\n",
        "\n",
        "        if mask is None and inp_logits is False:\n",
        "            mask = torch.logical_not(torch.eq(inp, torch.tensor(0)))  # =>[b, seq_Len], each element is a bool value, and if there is a pad in the sequence, the corresponding position of the mask is False\n",
        "            mask = mask.type(torch.bool)\n",
        "\n",
        "        return self.crf.decode(emissions=logits, mask=mask)\n",
        "\n",
        "learning_rate = 0.0003\n",
        "model_bilstm_crf = BiLSTM_CRF(vocab_size = vocab_size, hidden_size = hidden_size,embedding_dim =  embedding_dim, hidden_dim = hidden_size,device=device).to(device)\n",
        "# criterion = nn.CrossEntropyLoss()\n",
        "optimizer = optim.Adam(model_bilstm_crf.parameters(),lr = learning_rate)\n",
        "# torchkeras.summary(model_bilstm_crf, input_shape=(30,), input_dtype=torch.int64)"
      ],
      "execution_count": null,
      "outputs": []
    },
    {
      "cell_type": "code",
      "metadata": {
        "id": "52LiE_jH8egs"
      },
      "source": [
        "class BiLSTM_Attend_CRF(torch.nn.Module):\n",
        "    def __init__(self, vocab_size, hidden_size, embedding_dim,hidden_dim,device,heads = 1):\n",
        "        super(BiLSTM_Attend_CRF, self).__init__()\n",
        "\n",
        "        self.hidden_size = hidden_size\n",
        "\n",
        "        self.embedding = torch.nn.Embedding(num_embeddings=vocab_size, embedding_dim=embedding_dim, padding_idx=pad_id)\n",
        "        # self.bi_lstm = torch.nn.LSTM(input_size=embedding_dim, hidden_size=hidden_size // 2, batch_first=True,\n",
        "        #                              bidirectional=True)  # , dropout=0.2)\n",
        "\n",
        "        self.multiheadattention = torch.nn.MultiheadAttention(embed_dim=embedding_dim, num_heads = heads, dropout=0.0, bias=False, \\\n",
        "                                                              add_bias_kv=False, add_zero_attn=False, kdim=None,\\\n",
        "                                                              vdim=None, batch_first=True, device=device)\n",
        "        \n",
        "        self.hidden2tag = torch.nn.Linear(embedding_dim, label_vocab_size) # excludes pad\n",
        "\n",
        "        self.crf = CRF(num_tags=label_vocab_size , batch_first=True).to(device)\n",
        "\n",
        "    def init_hidden(self, batch_size):\n",
        "        return (torch.randn(2, batch_size, self.hidden_size // 2, device=device),\n",
        "                torch.randn(2, batch_size, self.hidden_size // 2, device=device))  # ([batch=1,2,hidden_size//2], [batch=1,2,hidden_size//2])\n",
        "\n",
        "    def forward(self, inp):  # inp [batch, seq_len=30], embedding_dim = 100\n",
        "        # self.bi_lstm.flatten_parameters()\n",
        "\n",
        "        embeds = self.embedding(inp)  # [batch,seq_len]=>[batch, seq_len, embedding_dim]\n",
        "        #lstm_out, _ = self.bi_lstm(embeds, None)  # lstm_out: =>[batch, seq_len, hidden_size],\n",
        "        # lstm_out, self.hidden = self.bi_lstm(embeds, self.hidden)  # lstm_out: =>[batch, seq_len, hidden_size],\n",
        "        # h_n: ([batch,2,hidden_size//2], c_n: [batch,2,hidden_size//2])\n",
        "\n",
        "        attn_output, attn_output_weights = self.multiheadattention(embeds, embeds, embeds)  # [batch_size, target_seq_len, hidden_dim] ,[batch_size, target sequence length, source sequence length]\n",
        "\n",
        "        logits = self.hidden2tag(attn_output)  # [batch, seq_len, hidden_size]=>[batch, seq_len, tags_num]\n",
        "        return logits # [batch, seq_len=30, tags_num=25]\n",
        "\n",
        "    # Calculates the CRF conditional logarithmic likelihood and returns its negative value as loss\n",
        "    def crf_neg_log_likelihood(self, inp, tags, mask=None, inp_logits=False):  # [batch, seq_len, tags_num], [batch, seq_len]\n",
        "        if inp_logits:\n",
        "            logits = inp\n",
        "        else:\n",
        "            logits = self.forward(inp)\n",
        "\n",
        "        if mask is None:\n",
        "            mask = torch.logical_not(torch.eq(tags.long(), torch.tensor(0)))  # =>[batch, seq_Len], each element is a bool value, and if there is a pad in the sequence, the corresponding position of the mask is False\n",
        "            mask = mask.type(torch.bool)\n",
        "\n",
        "        # print(logits.shape,tags.shape)\n",
        "        crf_llh = self.crf(logits, tags.long(), mask, reduction='sum') # Compute the conditional log likelihood of a sequence of tags given emission scores\n",
        "        # crf_llh = self.crf(logits, tags, mask) # Compute the conditional log likelihood of a sequence of tags given emission scores\n",
        "        return -crf_llh\n",
        "\n",
        "    def crf_decode(self, inp, mask=None, inp_logits=False):\n",
        "        if inp_logits:\n",
        "            logits = inp\n",
        "        else:\n",
        "            logits = self.forward(inp)\n",
        "\n",
        "        if mask is None and inp_logits is False:\n",
        "            mask = torch.logical_not(torch.eq(inp, torch.tensor(0)))  # =>[b, seq_Len], each element is a bool value, and if there is a pad in the sequence, the corresponding position of the mask is False\n",
        "            mask = mask.type(torch.bool)\n",
        "\n",
        "        return self.crf.decode(emissions=logits, mask=mask)\n",
        "\n",
        "learning_rate = 0.0003\n",
        "model_bilstm_attend_crf = BiLSTM_Attend_CRF(vocab_size = vocab_size, hidden_size = hidden_size,embedding_dim =  embedding_dim, hidden_dim = hidden_size,device=device).to(device)\n",
        "# criterion = nn.CrossEntropyLoss()\n",
        "optimizer = optim.Adam(model_bilstm_attend_crf.parameters(),lr = learning_rate)\n",
        "# torchkeras.summary(model_bilstm_crf, input_shape=(30,), input_dtype=torch.int64)"
      ],
      "execution_count": null,
      "outputs": []
    },
    {
      "cell_type": "code",
      "metadata": {
        "id": "dgBrq-gsjY9a"
      },
      "source": [
        "import time\n",
        "import copy"
      ],
      "execution_count": null,
      "outputs": []
    },
    {
      "cell_type": "code",
      "metadata": {
        "id": "b4JwH3nXw1oO"
      },
      "source": [
        "from sklearn.metrics import accuracy_score"
      ],
      "execution_count": null,
      "outputs": []
    },
    {
      "cell_type": "code",
      "metadata": {
        "id": "JX9GNcp3wopw"
      },
      "source": [
        "metric_func = lambda y_pred, y_true: np.sum(np.array(y_true)==np.array(y_pred))\n",
        "metric_name = 'acc'\n",
        "df_history = pd.DataFrame(columns=[\"epoch\", \"loss\", metric_name, \"val_loss\", \"val_\"+metric_name])"
      ],
      "execution_count": null,
      "outputs": []
    },
    {
      "cell_type": "code",
      "metadata": {
        "id": "UA0WDVcNXMkP"
      },
      "source": [
        "def train_step(model, inps, tags, optimizer):\n",
        "    inps = torch.from_numpy(inps).to(device)\n",
        "    tags = torch.from_numpy(tags).to(device)\n",
        "    mask = torch.logical_not(torch.eq(inps, torch.tensor(0)))  # =>[b, seq_len]\n",
        "    # Each element is a bool value, and if there is a pad in the sequence, the corresponding position of the mask is False\n",
        "    mask = mask.type(torch.bool)\n",
        "    mask = mask.to(device) # Data generated from data on the device is also on the device\n",
        "\n",
        "    model.train()  # Set train mode\n",
        "    optimizer.zero_grad()  # Gradient Zeroing\n",
        "\n",
        "\n",
        "    # forward\n",
        "    logits = model(inps)\n",
        "    #print(logits.shape,tags.shape)\n",
        "    loss = model.crf_neg_log_likelihood(logits, tags.long(), mask=mask, inp_logits=True)\n",
        "\n",
        "    # backward\n",
        "    loss.backward()  # Back Propagation Calculating Gradient\n",
        "    optimizer.step()  # Update parameters\n",
        "\n",
        "    preds = model.crf_decode(logits, mask=mask, inp_logits=True) # List[List]\n",
        "    pred_without_pad = []\n",
        "    for pred in preds:\n",
        "        pred_without_pad.extend(pred)\n",
        "    tags_without_pad = torch.masked_select(tags, mask).cpu().numpy() # Return to 1-D Tensor\n",
        "    # print('tags_without_pad:', tags_without_pad.shape, type(tags_without_pad)) # [5082] tensor\n",
        "    metric = metric_func(pred_without_pad, tags_without_pad)\n",
        "    # print('*'*8, metric) # scalar\n",
        "\n",
        "    return loss.item(), metric, len(pred_without_pad)\n",
        "\n",
        "\n",
        "@torch.no_grad()\n",
        "def validate_step(model, inps, tags):\n",
        "    inps = torch.from_numpy(inps).to(device)\n",
        "    tags = torch.from_numpy(tags).to(device)\n",
        "    mask = torch.logical_not(torch.eq(inps, torch.tensor(0)))  # =>[batch, seq_Len], each element is a bool value, and if there is a pad in the sequence, the corresponding position of the mask is False\n",
        "    \n",
        "    mask = mask.type(torch.bool)\n",
        "    mask = mask.to(device)\n",
        "\n",
        "    model.eval()  # Set eval mode\n",
        "\n",
        "    # forward\n",
        "    logits = model(inps)\n",
        "    loss = model.crf_neg_log_likelihood(logits, tags.long(), mask=mask, inp_logits=True)\n",
        "\n",
        "    preds = model.crf_decode(logits, mask=mask, inp_logits=True)  # List[List]\n",
        "    pred_without_pad = []\n",
        "    for pred in preds:\n",
        "        pred_without_pad.extend(pred)\n",
        "    tags_without_pad = torch.masked_select(tags, mask).cpu().numpy()  # Return to 1-D Tensor\n",
        "    metric = metric_func(pred_without_pad, tags_without_pad)\n",
        "    # print('*' * 8, metric) # scalar\n",
        "\n",
        "    return loss.item(), metric, len(pred_without_pad)"
      ],
      "execution_count": null,
      "outputs": []
    },
    {
      "cell_type": "code",
      "metadata": {
        "id": "bRfHArD0Dd6B"
      },
      "source": [
        "def train_model(model, x_train_dloader,y_train_l, x_val_dloader, y_val_l,x_test_dloader, y_test_l, optimizer, num_epochs=10, print_every=50):\n",
        "    starttime = time.time()\n",
        "    print('*' * 27, 'start training...')\n",
        "    save_dir = \"./ritam\"\n",
        "\n",
        "    best_metric = 0.\n",
        "    for epoch in range(1, num_epochs+1):\n",
        "        # train\n",
        "        loss_sum, metric_sum, n_point = 0., 0., 0.\n",
        "        for step, (inps, tags) in enumerate(zip(x_train_dloader,y_train_l), start = 1):\n",
        "            loss, metric,points = train_step(model, inps, tags, optimizer)\n",
        "            loss_sum += loss\n",
        "            metric_sum += metric\n",
        "            n_point += points\n",
        "            # Print batch level logs\n",
        "            # metric_name = 'acc'\n",
        "            if step % print_every == 0:\n",
        "                print('*'*27, f'[step = {step}] loss: {loss_sum/n_point:.3f}, {metric_name}: {metric_sum/n_point:.3f}')\n",
        "\n",
        "        # Verify the end of a train for an epoch, do a validation\n",
        "        val_loss_sum, val_metric_sum, val_n_point = 0., 0., 0.\n",
        "        for val_step, (inps, tags) in enumerate(zip( x_val_dloader, y_val_l), start = 1):\n",
        "            val_loss, val_metric, points = validate_step(model, inps, tags)\n",
        "            val_loss_sum += val_loss\n",
        "            val_metric_sum += val_metric\n",
        "            val_n_point += points\n",
        "\n",
        "        # Record and collect training and validation information for an epoch\n",
        "        # columns=['epoch', 'loss', metric_name, 'val_loss', 'val_'+metric_name]\n",
        "        record = (epoch, loss_sum/n_point, metric_sum/n_point, val_loss_sum/val_n_point, val_metric_sum/val_n_point)\n",
        "        df_history.loc[epoch - 1] = record\n",
        "\n",
        "        # Print epoch level log\n",
        "        print('EPOCH = {} loss: {:.3f}, {}: {:.3f}, val_loss: {:.3f}, val_{}: {:.3f}'.format(\n",
        "               record[0], record[1], metric_name, record[2], record[3], metric_name, record[4]))\n",
        "\n",
        "        # Save the best model parameters\n",
        "        current_metric_avg = val_metric_sum/val_n_point\n",
        "        if current_metric_avg > best_metric:\n",
        "            best_metric = current_metric_avg\n",
        "            checkpoint = save_dir + f'epoch{epoch:03d}_valacc{current_metric_avg:.3f}_ckpt.tar'\n",
        "\n",
        "            '''if device.type == 'cuda' and ngpu > 1:\n",
        "                model_sd = copy.deepcopy(model.module.state_dict())\n",
        "            else:\n",
        "                '''\n",
        "\n",
        "            # model_sd = copy.deepcopy(model.state_dict())\n",
        "            # Preservation\n",
        "            PATH = \"./best_model.sav\"\n",
        "            torch.save(model.state_dict(), PATH)\n",
        "\n",
        "\n",
        "    endtime = time.time()\n",
        "    time_elapsed = endtime - starttime\n",
        "    print('*' * 27, 'training finished...')\n",
        "    print('*' * 27, 'and it costs {} h {} min {:.2f} s'.format(int(time_elapsed // 3600),\n",
        "                                                               int((time_elapsed % 3600) // 60),\n",
        "                                                               (time_elapsed % 3600) % 60))\n",
        "\n",
        "    print('Best val Acc: {:4f}'.format(best_metric))\n",
        "\n",
        "    # test_loss_sum, test_metric_sum = 0., 0.\n",
        "    # for test_step, (inps, tags) in enumerate(zip( x_test_dloader, y_test_l), start = 1):\n",
        "    #     test_loss, test_metric = validate_step(model, inps, tags)\n",
        "    #     test_loss_sum += test_loss\n",
        "    #     test_metric_sum += test_metric\n",
        "  \n",
        "    # print(f'Test loss: {test_loss_sum/test_step} Test Acc: {test_metric_sum/test_step}')\n",
        "    return df_history"
      ],
      "execution_count": null,
      "outputs": []
    },
    {
      "cell_type": "code",
      "metadata": {
        "colab": {
          "base_uri": "https://localhost:8080/",
          "height": 1000
        },
        "id": "EyyRN1GEDd7_",
        "outputId": "eef7be89-7a4a-4b40-a925-f740fdf98656"
      },
      "source": [
        "LR = 0.0003\n",
        "EPOCHS = 75\n",
        "# heads = 5 #[1,4]\n",
        "model_bilstm_attend_crf = BiLSTM_CRF(vocab_size = vocab_size, hidden_size = hidden_size,embedding_dim =  embedding_dim, hidden_dim = hidden_size,device=device).to(device)\n",
        "\n",
        "optimizer = torch.optim.Adam(model_bilstm_crf.parameters(), lr=LR)\n",
        "train_model(model_bilstm_crf , X_train_batched,y_train_batched, X_val_batched,y_val_batched, x_test_batched, y_test_batched, optimizer, num_epochs=EPOCHS, print_every=50)"
      ],
      "execution_count": null,
      "outputs": [
        {
          "output_type": "stream",
          "name": "stdout",
          "text": [
            "*************************** start training...\n",
            "*************************** [step = 50] loss: 3.121, acc: 0.236\n",
            "*************************** [step = 100] loss: 2.914, acc: 0.411\n",
            "*************************** [step = 150] loss: 2.583, acc: 0.486\n",
            "*************************** [step = 200] loss: 2.329, acc: 0.518\n",
            "EPOCH = 1 loss: 2.211, acc: 0.533, val_loss: 1.722, val_acc: 0.614\n",
            "*************************** [step = 50] loss: 1.669, acc: 0.614\n",
            "*************************** [step = 100] loss: 1.577, acc: 0.611\n",
            "*************************** [step = 150] loss: 1.490, acc: 0.613\n",
            "*************************** [step = 200] loss: 1.415, acc: 0.623\n",
            "EPOCH = 2 loss: 1.396, acc: 0.628, val_loss: 1.516, val_acc: 0.620\n",
            "*************************** [step = 50] loss: 1.483, acc: 0.621\n",
            "*************************** [step = 100] loss: 1.326, acc: 0.645\n",
            "*************************** [step = 150] loss: 1.204, acc: 0.672\n",
            "*************************** [step = 200] loss: 1.119, acc: 0.691\n",
            "EPOCH = 3 loss: 1.109, acc: 0.693, val_loss: 1.372, val_acc: 0.644\n",
            "*************************** [step = 50] loss: 1.337, acc: 0.655\n",
            "*************************** [step = 100] loss: 1.132, acc: 0.696\n",
            "*************************** [step = 150] loss: 0.990, acc: 0.730\n",
            "*************************** [step = 200] loss: 0.903, acc: 0.753\n",
            "EPOCH = 4 loss: 0.897, acc: 0.753, val_loss: 1.243, val_acc: 0.685\n",
            "*************************** [step = 50] loss: 1.212, acc: 0.694\n",
            "*************************** [step = 100] loss: 0.979, acc: 0.745\n",
            "*************************** [step = 150] loss: 0.828, acc: 0.782\n",
            "*************************** [step = 200] loss: 0.742, acc: 0.806\n",
            "EPOCH = 5 loss: 0.738, acc: 0.805, val_loss: 1.128, val_acc: 0.715\n",
            "*************************** [step = 50] loss: 1.102, acc: 0.719\n",
            "*************************** [step = 100] loss: 0.854, acc: 0.781\n",
            "*************************** [step = 150] loss: 0.703, acc: 0.818\n",
            "*************************** [step = 200] loss: 0.620, acc: 0.840\n",
            "EPOCH = 6 loss: 0.616, acc: 0.838, val_loss: 1.034, val_acc: 0.735\n",
            "*************************** [step = 50] loss: 1.009, acc: 0.737\n",
            "*************************** [step = 100] loss: 0.756, acc: 0.803\n",
            "*************************** [step = 150] loss: 0.609, acc: 0.840\n",
            "*************************** [step = 200] loss: 0.530, acc: 0.861\n",
            "EPOCH = 7 loss: 0.526, acc: 0.859, val_loss: 0.959, val_acc: 0.747\n",
            "*************************** [step = 50] loss: 0.933, acc: 0.752\n",
            "*************************** [step = 100] loss: 0.681, acc: 0.821\n",
            "*************************** [step = 150] loss: 0.538, acc: 0.858\n",
            "*************************** [step = 200] loss: 0.464, acc: 0.878\n",
            "EPOCH = 8 loss: 0.460, acc: 0.877, val_loss: 0.897, val_acc: 0.759\n",
            "*************************** [step = 50] loss: 0.869, acc: 0.765\n",
            "*************************** [step = 100] loss: 0.621, acc: 0.836\n",
            "*************************** [step = 150] loss: 0.484, acc: 0.871\n",
            "*************************** [step = 200] loss: 0.415, acc: 0.890\n",
            "EPOCH = 9 loss: 0.410, acc: 0.889, val_loss: 0.843, val_acc: 0.770\n",
            "*************************** [step = 50] loss: 0.814, acc: 0.777\n",
            "*************************** [step = 100] loss: 0.573, acc: 0.848\n",
            "*************************** [step = 150] loss: 0.442, acc: 0.882\n",
            "*************************** [step = 200] loss: 0.376, acc: 0.900\n",
            "EPOCH = 10 loss: 0.370, acc: 0.901, val_loss: 0.796, val_acc: 0.780\n",
            "*************************** [step = 50] loss: 0.765, acc: 0.787\n",
            "*************************** [step = 100] loss: 0.533, acc: 0.856\n",
            "*************************** [step = 150] loss: 0.407, acc: 0.890\n",
            "*************************** [step = 200] loss: 0.344, acc: 0.907\n",
            "EPOCH = 11 loss: 0.338, acc: 0.909, val_loss: 0.754, val_acc: 0.788\n",
            "*************************** [step = 50] loss: 0.722, acc: 0.796\n",
            "*************************** [step = 100] loss: 0.498, acc: 0.863\n",
            "*************************** [step = 150] loss: 0.377, acc: 0.897\n",
            "*************************** [step = 200] loss: 0.318, acc: 0.913\n",
            "EPOCH = 12 loss: 0.311, acc: 0.915, val_loss: 0.715, val_acc: 0.795\n",
            "*************************** [step = 50] loss: 0.683, acc: 0.803\n",
            "*************************** [step = 100] loss: 0.467, acc: 0.869\n",
            "*************************** [step = 150] loss: 0.352, acc: 0.901\n",
            "*************************** [step = 200] loss: 0.295, acc: 0.918\n",
            "EPOCH = 13 loss: 0.288, acc: 0.920, val_loss: 0.679, val_acc: 0.804\n",
            "*************************** [step = 50] loss: 0.646, acc: 0.810\n",
            "*************************** [step = 100] loss: 0.440, acc: 0.875\n",
            "*************************** [step = 150] loss: 0.329, acc: 0.906\n",
            "*************************** [step = 200] loss: 0.275, acc: 0.922\n",
            "EPOCH = 14 loss: 0.268, acc: 0.924, val_loss: 0.646, val_acc: 0.810\n",
            "*************************** [step = 50] loss: 0.612, acc: 0.816\n",
            "*************************** [step = 100] loss: 0.415, acc: 0.880\n",
            "*************************** [step = 150] loss: 0.309, acc: 0.911\n",
            "*************************** [step = 200] loss: 0.257, acc: 0.926\n",
            "EPOCH = 15 loss: 0.250, acc: 0.929, val_loss: 0.615, val_acc: 0.817\n",
            "*************************** [step = 50] loss: 0.581, acc: 0.823\n",
            "*************************** [step = 100] loss: 0.392, acc: 0.885\n",
            "*************************** [step = 150] loss: 0.290, acc: 0.916\n",
            "*************************** [step = 200] loss: 0.241, acc: 0.930\n",
            "EPOCH = 16 loss: 0.234, acc: 0.933, val_loss: 0.586, val_acc: 0.822\n",
            "*************************** [step = 50] loss: 0.552, acc: 0.830\n",
            "*************************** [step = 100] loss: 0.371, acc: 0.890\n",
            "*************************** [step = 150] loss: 0.273, acc: 0.920\n",
            "*************************** [step = 200] loss: 0.227, acc: 0.934\n",
            "EPOCH = 17 loss: 0.219, acc: 0.937, val_loss: 0.559, val_acc: 0.828\n",
            "*************************** [step = 50] loss: 0.524, acc: 0.836\n",
            "*************************** [step = 100] loss: 0.351, acc: 0.894\n",
            "*************************** [step = 150] loss: 0.258, acc: 0.923\n",
            "*************************** [step = 200] loss: 0.213, acc: 0.937\n",
            "EPOCH = 18 loss: 0.206, acc: 0.940, val_loss: 0.534, val_acc: 0.834\n",
            "*************************** [step = 50] loss: 0.498, acc: 0.842\n",
            "*************************** [step = 100] loss: 0.333, acc: 0.899\n",
            "*************************** [step = 150] loss: 0.244, acc: 0.927\n",
            "*************************** [step = 200] loss: 0.201, acc: 0.941\n",
            "EPOCH = 19 loss: 0.194, acc: 0.944, val_loss: 0.509, val_acc: 0.840\n",
            "*************************** [step = 50] loss: 0.474, acc: 0.847\n",
            "*************************** [step = 100] loss: 0.316, acc: 0.903\n",
            "*************************** [step = 150] loss: 0.230, acc: 0.931\n",
            "*************************** [step = 200] loss: 0.189, acc: 0.944\n",
            "EPOCH = 20 loss: 0.182, acc: 0.947, val_loss: 0.486, val_acc: 0.844\n",
            "*************************** [step = 50] loss: 0.450, acc: 0.855\n",
            "*************************** [step = 100] loss: 0.300, acc: 0.907\n",
            "*************************** [step = 150] loss: 0.218, acc: 0.935\n",
            "*************************** [step = 200] loss: 0.179, acc: 0.947\n",
            "EPOCH = 21 loss: 0.171, acc: 0.950, val_loss: 0.464, val_acc: 0.851\n",
            "*************************** [step = 50] loss: 0.428, acc: 0.861\n",
            "*************************** [step = 100] loss: 0.285, acc: 0.911\n",
            "*************************** [step = 150] loss: 0.206, acc: 0.937\n",
            "*************************** [step = 200] loss: 0.169, acc: 0.949\n",
            "EPOCH = 22 loss: 0.162, acc: 0.953, val_loss: 0.443, val_acc: 0.855\n",
            "*************************** [step = 50] loss: 0.407, acc: 0.867\n",
            "*************************** [step = 100] loss: 0.270, acc: 0.916\n",
            "*************************** [step = 150] loss: 0.195, acc: 0.941\n",
            "*************************** [step = 200] loss: 0.160, acc: 0.952\n",
            "EPOCH = 23 loss: 0.152, acc: 0.955, val_loss: 0.424, val_acc: 0.859\n",
            "*************************** [step = 50] loss: 0.388, acc: 0.874\n",
            "*************************** [step = 100] loss: 0.257, acc: 0.919\n",
            "*************************** [step = 150] loss: 0.185, acc: 0.944\n",
            "*************************** [step = 200] loss: 0.151, acc: 0.954\n",
            "EPOCH = 24 loss: 0.144, acc: 0.958, val_loss: 0.406, val_acc: 0.864\n",
            "*************************** [step = 50] loss: 0.369, acc: 0.878\n",
            "*************************** [step = 100] loss: 0.244, acc: 0.923\n",
            "*************************** [step = 150] loss: 0.175, acc: 0.946\n",
            "*************************** [step = 200] loss: 0.143, acc: 0.956\n",
            "EPOCH = 25 loss: 0.136, acc: 0.960, val_loss: 0.389, val_acc: 0.867\n",
            "*************************** [step = 50] loss: 0.351, acc: 0.882\n",
            "*************************** [step = 100] loss: 0.232, acc: 0.925\n",
            "*************************** [step = 150] loss: 0.166, acc: 0.948\n",
            "*************************** [step = 200] loss: 0.135, acc: 0.958\n",
            "EPOCH = 26 loss: 0.129, acc: 0.961, val_loss: 0.373, val_acc: 0.871\n",
            "*************************** [step = 50] loss: 0.334, acc: 0.887\n",
            "*************************** [step = 100] loss: 0.221, acc: 0.929\n",
            "*************************** [step = 150] loss: 0.158, acc: 0.951\n",
            "*************************** [step = 200] loss: 0.128, acc: 0.960\n",
            "EPOCH = 27 loss: 0.122, acc: 0.963, val_loss: 0.358, val_acc: 0.874\n",
            "*************************** [step = 50] loss: 0.318, acc: 0.893\n",
            "*************************** [step = 100] loss: 0.210, acc: 0.932\n",
            "*************************** [step = 150] loss: 0.150, acc: 0.953\n",
            "*************************** [step = 200] loss: 0.122, acc: 0.963\n",
            "EPOCH = 28 loss: 0.115, acc: 0.966, val_loss: 0.344, val_acc: 0.878\n",
            "*************************** [step = 50] loss: 0.303, acc: 0.896\n",
            "*************************** [step = 100] loss: 0.199, acc: 0.935\n",
            "*************************** [step = 150] loss: 0.142, acc: 0.955\n",
            "*************************** [step = 200] loss: 0.115, acc: 0.964\n",
            "EPOCH = 29 loss: 0.109, acc: 0.967, val_loss: 0.331, val_acc: 0.881\n",
            "*************************** [step = 50] loss: 0.289, acc: 0.902\n",
            "*************************** [step = 100] loss: 0.190, acc: 0.938\n",
            "*************************** [step = 150] loss: 0.135, acc: 0.958\n",
            "*************************** [step = 200] loss: 0.109, acc: 0.966\n",
            "EPOCH = 30 loss: 0.103, acc: 0.969, val_loss: 0.318, val_acc: 0.885\n",
            "*************************** [step = 50] loss: 0.275, acc: 0.905\n",
            "*************************** [step = 100] loss: 0.180, acc: 0.941\n",
            "*************************** [step = 150] loss: 0.128, acc: 0.960\n",
            "*************************** [step = 200] loss: 0.104, acc: 0.968\n",
            "EPOCH = 31 loss: 0.098, acc: 0.971, val_loss: 0.306, val_acc: 0.888\n",
            "*************************** [step = 50] loss: 0.261, acc: 0.910\n",
            "*************************** [step = 100] loss: 0.171, acc: 0.944\n",
            "*************************** [step = 150] loss: 0.122, acc: 0.962\n",
            "*************************** [step = 200] loss: 0.098, acc: 0.970\n",
            "EPOCH = 32 loss: 0.093, acc: 0.973, val_loss: 0.294, val_acc: 0.891\n",
            "*************************** [step = 50] loss: 0.248, acc: 0.916\n",
            "*************************** [step = 100] loss: 0.162, acc: 0.947\n",
            "*************************** [step = 150] loss: 0.115, acc: 0.964\n",
            "*************************** [step = 200] loss: 0.093, acc: 0.972\n",
            "EPOCH = 33 loss: 0.088, acc: 0.974, val_loss: 0.283, val_acc: 0.893\n",
            "*************************** [step = 50] loss: 0.236, acc: 0.919\n",
            "*************************** [step = 100] loss: 0.154, acc: 0.949\n",
            "*************************** [step = 150] loss: 0.109, acc: 0.966\n",
            "*************************** [step = 200] loss: 0.088, acc: 0.973\n",
            "EPOCH = 34 loss: 0.083, acc: 0.976, val_loss: 0.273, val_acc: 0.896\n",
            "*************************** [step = 50] loss: 0.224, acc: 0.924\n",
            "*************************** [step = 100] loss: 0.146, acc: 0.953\n",
            "*************************** [step = 150] loss: 0.104, acc: 0.968\n",
            "*************************** [step = 200] loss: 0.084, acc: 0.975\n",
            "EPOCH = 35 loss: 0.078, acc: 0.977, val_loss: 0.264, val_acc: 0.897\n",
            "*************************** [step = 50] loss: 0.212, acc: 0.929\n",
            "*************************** [step = 100] loss: 0.139, acc: 0.955\n",
            "*************************** [step = 150] loss: 0.098, acc: 0.970\n",
            "*************************** [step = 200] loss: 0.079, acc: 0.977\n",
            "EPOCH = 36 loss: 0.074, acc: 0.979, val_loss: 0.256, val_acc: 0.900\n",
            "*************************** [step = 50] loss: 0.201, acc: 0.932\n",
            "*************************** [step = 100] loss: 0.131, acc: 0.957\n",
            "*************************** [step = 150] loss: 0.093, acc: 0.971\n",
            "*************************** [step = 200] loss: 0.075, acc: 0.978\n",
            "EPOCH = 37 loss: 0.070, acc: 0.980, val_loss: 0.252, val_acc: 0.900\n",
            "*************************** [step = 50] loss: 0.191, acc: 0.935\n",
            "*************************** [step = 100] loss: 0.124, acc: 0.959\n",
            "*************************** [step = 150] loss: 0.088, acc: 0.973\n",
            "*************************** [step = 200] loss: 0.071, acc: 0.979\n",
            "EPOCH = 38 loss: 0.067, acc: 0.981, val_loss: 0.249, val_acc: 0.900\n",
            "*************************** [step = 50] loss: 0.181, acc: 0.939\n",
            "*************************** [step = 100] loss: 0.118, acc: 0.962\n",
            "*************************** [step = 150] loss: 0.083, acc: 0.974\n",
            "*************************** [step = 200] loss: 0.067, acc: 0.980\n",
            "EPOCH = 39 loss: 0.063, acc: 0.982, val_loss: 0.247, val_acc: 0.900\n",
            "*************************** [step = 50] loss: 0.172, acc: 0.942\n",
            "*************************** [step = 100] loss: 0.112, acc: 0.963\n",
            "*************************** [step = 150] loss: 0.079, acc: 0.976\n",
            "*************************** [step = 200] loss: 0.064, acc: 0.981\n",
            "EPOCH = 40 loss: 0.060, acc: 0.983, val_loss: 0.241, val_acc: 0.902\n",
            "*************************** [step = 50] loss: 0.164, acc: 0.944\n",
            "*************************** [step = 100] loss: 0.106, acc: 0.966\n",
            "*************************** [step = 150] loss: 0.075, acc: 0.977\n",
            "*************************** [step = 200] loss: 0.061, acc: 0.982\n",
            "EPOCH = 41 loss: 0.057, acc: 0.984, val_loss: 0.231, val_acc: 0.906\n",
            "*************************** [step = 50] loss: 0.156, acc: 0.946\n",
            "*************************** [step = 100] loss: 0.101, acc: 0.967\n",
            "*************************** [step = 150] loss: 0.071, acc: 0.978\n",
            "*************************** [step = 200] loss: 0.058, acc: 0.983\n",
            "EPOCH = 42 loss: 0.054, acc: 0.984, val_loss: 0.214, val_acc: 0.911\n",
            "*************************** [step = 50] loss: 0.148, acc: 0.948\n",
            "*************************** [step = 100] loss: 0.096, acc: 0.968\n",
            "*************************** [step = 150] loss: 0.068, acc: 0.979\n",
            "*************************** [step = 200] loss: 0.055, acc: 0.984\n",
            "EPOCH = 43 loss: 0.051, acc: 0.985, val_loss: 0.196, val_acc: 0.916\n",
            "*************************** [step = 50] loss: 0.140, acc: 0.952\n",
            "*************************** [step = 100] loss: 0.090, acc: 0.970\n",
            "*************************** [step = 150] loss: 0.064, acc: 0.980\n",
            "*************************** [step = 200] loss: 0.052, acc: 0.985\n",
            "EPOCH = 44 loss: 0.048, acc: 0.986, val_loss: 0.184, val_acc: 0.920\n",
            "*************************** [step = 50] loss: 0.132, acc: 0.954\n",
            "*************************** [step = 100] loss: 0.085, acc: 0.972\n",
            "*************************** [step = 150] loss: 0.060, acc: 0.981\n",
            "*************************** [step = 200] loss: 0.049, acc: 0.986\n",
            "EPOCH = 45 loss: 0.045, acc: 0.987, val_loss: 0.175, val_acc: 0.923\n",
            "*************************** [step = 50] loss: 0.125, acc: 0.956\n",
            "*************************** [step = 100] loss: 0.080, acc: 0.973\n",
            "*************************** [step = 150] loss: 0.057, acc: 0.982\n",
            "*************************** [step = 200] loss: 0.046, acc: 0.986\n",
            "EPOCH = 46 loss: 0.043, acc: 0.987, val_loss: 0.165, val_acc: 0.927\n",
            "*************************** [step = 50] loss: 0.117, acc: 0.959\n",
            "*************************** [step = 100] loss: 0.075, acc: 0.975\n",
            "*************************** [step = 150] loss: 0.053, acc: 0.983\n",
            "*************************** [step = 200] loss: 0.043, acc: 0.987\n",
            "EPOCH = 47 loss: 0.040, acc: 0.988, val_loss: 0.158, val_acc: 0.929\n",
            "*************************** [step = 50] loss: 0.110, acc: 0.962\n",
            "*************************** [step = 100] loss: 0.071, acc: 0.976\n",
            "*************************** [step = 150] loss: 0.050, acc: 0.984\n",
            "*************************** [step = 200] loss: 0.041, acc: 0.988\n",
            "EPOCH = 48 loss: 0.038, acc: 0.989, val_loss: 0.152, val_acc: 0.929\n",
            "*************************** [step = 50] loss: 0.103, acc: 0.963\n",
            "*************************** [step = 100] loss: 0.066, acc: 0.978\n",
            "*************************** [step = 150] loss: 0.047, acc: 0.986\n",
            "*************************** [step = 200] loss: 0.038, acc: 0.989\n",
            "EPOCH = 49 loss: 0.035, acc: 0.990, val_loss: 0.148, val_acc: 0.930\n",
            "*************************** [step = 50] loss: 0.096, acc: 0.966\n",
            "*************************** [step = 100] loss: 0.062, acc: 0.980\n",
            "*************************** [step = 150] loss: 0.044, acc: 0.987\n",
            "*************************** [step = 200] loss: 0.036, acc: 0.990\n",
            "EPOCH = 50 loss: 0.033, acc: 0.991, val_loss: 0.144, val_acc: 0.931\n",
            "*************************** [step = 50] loss: 0.090, acc: 0.967\n",
            "*************************** [step = 100] loss: 0.058, acc: 0.981\n",
            "*************************** [step = 150] loss: 0.041, acc: 0.987\n",
            "*************************** [step = 200] loss: 0.034, acc: 0.990\n",
            "EPOCH = 51 loss: 0.031, acc: 0.991, val_loss: 0.138, val_acc: 0.933\n",
            "*************************** [step = 50] loss: 0.085, acc: 0.970\n",
            "*************************** [step = 100] loss: 0.055, acc: 0.982\n",
            "*************************** [step = 150] loss: 0.039, acc: 0.988\n",
            "*************************** [step = 200] loss: 0.032, acc: 0.991\n",
            "EPOCH = 52 loss: 0.029, acc: 0.992, val_loss: 0.131, val_acc: 0.936\n",
            "*************************** [step = 50] loss: 0.080, acc: 0.973\n",
            "*************************** [step = 100] loss: 0.051, acc: 0.984\n",
            "*************************** [step = 150] loss: 0.036, acc: 0.989\n",
            "*************************** [step = 200] loss: 0.030, acc: 0.992\n",
            "EPOCH = 53 loss: 0.028, acc: 0.993, val_loss: 0.123, val_acc: 0.939\n",
            "*************************** [step = 50] loss: 0.075, acc: 0.974\n",
            "*************************** [step = 100] loss: 0.048, acc: 0.985\n",
            "*************************** [step = 150] loss: 0.034, acc: 0.990\n",
            "*************************** [step = 200] loss: 0.028, acc: 0.992\n",
            "EPOCH = 54 loss: 0.026, acc: 0.993, val_loss: 0.116, val_acc: 0.942\n",
            "*************************** [step = 50] loss: 0.070, acc: 0.977\n",
            "*************************** [step = 100] loss: 0.045, acc: 0.986\n",
            "*************************** [step = 150] loss: 0.032, acc: 0.991\n",
            "*************************** [step = 200] loss: 0.026, acc: 0.993\n",
            "EPOCH = 55 loss: 0.024, acc: 0.994, val_loss: 0.111, val_acc: 0.943\n",
            "*************************** [step = 50] loss: 0.065, acc: 0.979\n",
            "*************************** [step = 100] loss: 0.042, acc: 0.987\n",
            "*************************** [step = 150] loss: 0.030, acc: 0.992\n",
            "*************************** [step = 200] loss: 0.025, acc: 0.994\n",
            "EPOCH = 56 loss: 0.023, acc: 0.994, val_loss: 0.105, val_acc: 0.945\n",
            "*************************** [step = 50] loss: 0.061, acc: 0.981\n",
            "*************************** [step = 100] loss: 0.040, acc: 0.989\n",
            "*************************** [step = 150] loss: 0.028, acc: 0.992\n",
            "*************************** [step = 200] loss: 0.023, acc: 0.994\n",
            "EPOCH = 57 loss: 0.021, acc: 0.995, val_loss: 0.101, val_acc: 0.947\n",
            "*************************** [step = 50] loss: 0.057, acc: 0.982\n",
            "*************************** [step = 100] loss: 0.037, acc: 0.990\n",
            "*************************** [step = 150] loss: 0.026, acc: 0.993\n",
            "*************************** [step = 200] loss: 0.022, acc: 0.995\n",
            "EPOCH = 58 loss: 0.020, acc: 0.995, val_loss: 0.098, val_acc: 0.949\n",
            "*************************** [step = 50] loss: 0.053, acc: 0.984\n",
            "*************************** [step = 100] loss: 0.034, acc: 0.990\n",
            "*************************** [step = 150] loss: 0.024, acc: 0.994\n",
            "*************************** [step = 200] loss: 0.020, acc: 0.995\n",
            "EPOCH = 59 loss: 0.019, acc: 0.996, val_loss: 0.095, val_acc: 0.949\n",
            "*************************** [step = 50] loss: 0.050, acc: 0.986\n",
            "*************************** [step = 100] loss: 0.032, acc: 0.992\n",
            "*************************** [step = 150] loss: 0.023, acc: 0.994\n",
            "*************************** [step = 200] loss: 0.019, acc: 0.996\n",
            "EPOCH = 60 loss: 0.018, acc: 0.996, val_loss: 0.092, val_acc: 0.951\n",
            "*************************** [step = 50] loss: 0.046, acc: 0.988\n",
            "*************************** [step = 100] loss: 0.030, acc: 0.993\n",
            "*************************** [step = 150] loss: 0.021, acc: 0.995\n",
            "*************************** [step = 200] loss: 0.018, acc: 0.996\n",
            "EPOCH = 61 loss: 0.016, acc: 0.997, val_loss: 0.089, val_acc: 0.952\n",
            "*************************** [step = 50] loss: 0.043, acc: 0.989\n",
            "*************************** [step = 100] loss: 0.028, acc: 0.993\n",
            "*************************** [step = 150] loss: 0.020, acc: 0.996\n",
            "*************************** [step = 200] loss: 0.017, acc: 0.997\n",
            "EPOCH = 62 loss: 0.015, acc: 0.997, val_loss: 0.086, val_acc: 0.953\n",
            "*************************** [step = 50] loss: 0.040, acc: 0.991\n",
            "*************************** [step = 100] loss: 0.026, acc: 0.994\n",
            "*************************** [step = 150] loss: 0.019, acc: 0.996\n",
            "*************************** [step = 200] loss: 0.015, acc: 0.997\n",
            "EPOCH = 63 loss: 0.014, acc: 0.997, val_loss: 0.084, val_acc: 0.954\n",
            "*************************** [step = 50] loss: 0.038, acc: 0.992\n",
            "*************************** [step = 100] loss: 0.024, acc: 0.995\n",
            "*************************** [step = 150] loss: 0.017, acc: 0.997\n",
            "*************************** [step = 200] loss: 0.014, acc: 0.997\n",
            "EPOCH = 64 loss: 0.013, acc: 0.998, val_loss: 0.082, val_acc: 0.955\n",
            "*************************** [step = 50] loss: 0.035, acc: 0.993\n",
            "*************************** [step = 100] loss: 0.023, acc: 0.996\n",
            "*************************** [step = 150] loss: 0.016, acc: 0.997\n",
            "*************************** [step = 200] loss: 0.013, acc: 0.998\n",
            "EPOCH = 65 loss: 0.012, acc: 0.998, val_loss: 0.080, val_acc: 0.956\n",
            "*************************** [step = 50] loss: 0.033, acc: 0.994\n",
            "*************************** [step = 100] loss: 0.021, acc: 0.996\n",
            "*************************** [step = 150] loss: 0.015, acc: 0.997\n",
            "*************************** [step = 200] loss: 0.013, acc: 0.998\n",
            "EPOCH = 66 loss: 0.012, acc: 0.998, val_loss: 0.078, val_acc: 0.957\n",
            "*************************** [step = 50] loss: 0.030, acc: 0.995\n",
            "*************************** [step = 100] loss: 0.020, acc: 0.997\n",
            "*************************** [step = 150] loss: 0.014, acc: 0.998\n",
            "*************************** [step = 200] loss: 0.012, acc: 0.998\n",
            "EPOCH = 67 loss: 0.011, acc: 0.998, val_loss: 0.076, val_acc: 0.957\n",
            "*************************** [step = 50] loss: 0.028, acc: 0.995\n",
            "*************************** [step = 100] loss: 0.018, acc: 0.997\n",
            "*************************** [step = 150] loss: 0.013, acc: 0.998\n",
            "*************************** [step = 200] loss: 0.011, acc: 0.998\n",
            "EPOCH = 68 loss: 0.010, acc: 0.999, val_loss: 0.074, val_acc: 0.959\n",
            "*************************** [step = 50] loss: 0.026, acc: 0.996\n",
            "*************************** [step = 100] loss: 0.017, acc: 0.997\n",
            "*************************** [step = 150] loss: 0.012, acc: 0.998\n",
            "*************************** [step = 200] loss: 0.010, acc: 0.999\n",
            "EPOCH = 69 loss: 0.009, acc: 0.999, val_loss: 0.072, val_acc: 0.960\n",
            "*************************** [step = 50] loss: 0.024, acc: 0.996\n",
            "*************************** [step = 100] loss: 0.016, acc: 0.998\n",
            "*************************** [step = 150] loss: 0.011, acc: 0.998\n",
            "*************************** [step = 200] loss: 0.009, acc: 0.999\n",
            "EPOCH = 70 loss: 0.009, acc: 0.999, val_loss: 0.070, val_acc: 0.960\n",
            "*************************** [step = 50] loss: 0.023, acc: 0.996\n",
            "*************************** [step = 100] loss: 0.015, acc: 0.998\n",
            "*************************** [step = 150] loss: 0.010, acc: 0.999\n",
            "*************************** [step = 200] loss: 0.009, acc: 0.999\n",
            "EPOCH = 71 loss: 0.008, acc: 0.999, val_loss: 0.070, val_acc: 0.961\n",
            "*************************** [step = 50] loss: 0.021, acc: 0.997\n",
            "*************************** [step = 100] loss: 0.014, acc: 0.998\n",
            "*************************** [step = 150] loss: 0.010, acc: 0.999\n",
            "*************************** [step = 200] loss: 0.008, acc: 0.999\n",
            "EPOCH = 72 loss: 0.008, acc: 0.999, val_loss: 0.068, val_acc: 0.962\n",
            "*************************** [step = 50] loss: 0.020, acc: 0.997\n",
            "*************************** [step = 100] loss: 0.013, acc: 0.999\n",
            "*************************** [step = 150] loss: 0.009, acc: 0.999\n",
            "*************************** [step = 200] loss: 0.008, acc: 0.999\n",
            "EPOCH = 73 loss: 0.007, acc: 0.999, val_loss: 0.067, val_acc: 0.962\n",
            "*************************** [step = 50] loss: 0.018, acc: 0.998\n",
            "*************************** [step = 100] loss: 0.012, acc: 0.999\n",
            "*************************** [step = 150] loss: 0.008, acc: 0.999\n",
            "*************************** [step = 200] loss: 0.007, acc: 0.999\n",
            "EPOCH = 74 loss: 0.007, acc: 0.999, val_loss: 0.065, val_acc: 0.964\n",
            "*************************** [step = 50] loss: 0.017, acc: 0.998\n",
            "*************************** [step = 100] loss: 0.011, acc: 0.999\n",
            "*************************** [step = 150] loss: 0.008, acc: 0.999\n",
            "*************************** [step = 200] loss: 0.007, acc: 0.999\n",
            "EPOCH = 75 loss: 0.006, acc: 0.999, val_loss: 0.064, val_acc: 0.965\n",
            "*************************** training finished...\n",
            "*************************** and it costs 0 h 23 min 47.43 s\n",
            "Best val Acc: 0.964792\n"
          ]
        },
        {
          "output_type": "execute_result",
          "data": {
            "text/html": [
              "<div>\n",
              "<style scoped>\n",
              "    .dataframe tbody tr th:only-of-type {\n",
              "        vertical-align: middle;\n",
              "    }\n",
              "\n",
              "    .dataframe tbody tr th {\n",
              "        vertical-align: top;\n",
              "    }\n",
              "\n",
              "    .dataframe thead th {\n",
              "        text-align: right;\n",
              "    }\n",
              "</style>\n",
              "<table border=\"1\" class=\"dataframe\">\n",
              "  <thead>\n",
              "    <tr style=\"text-align: right;\">\n",
              "      <th></th>\n",
              "      <th>epoch</th>\n",
              "      <th>loss</th>\n",
              "      <th>acc</th>\n",
              "      <th>val_loss</th>\n",
              "      <th>val_acc</th>\n",
              "    </tr>\n",
              "  </thead>\n",
              "  <tbody>\n",
              "    <tr>\n",
              "      <th>0</th>\n",
              "      <td>1.0</td>\n",
              "      <td>2.211238</td>\n",
              "      <td>0.532934</td>\n",
              "      <td>1.721928</td>\n",
              "      <td>0.613709</td>\n",
              "    </tr>\n",
              "    <tr>\n",
              "      <th>1</th>\n",
              "      <td>2.0</td>\n",
              "      <td>1.395643</td>\n",
              "      <td>0.628474</td>\n",
              "      <td>1.516437</td>\n",
              "      <td>0.620307</td>\n",
              "    </tr>\n",
              "    <tr>\n",
              "      <th>2</th>\n",
              "      <td>3.0</td>\n",
              "      <td>1.109151</td>\n",
              "      <td>0.693094</td>\n",
              "      <td>1.371950</td>\n",
              "      <td>0.643896</td>\n",
              "    </tr>\n",
              "    <tr>\n",
              "      <th>3</th>\n",
              "      <td>4.0</td>\n",
              "      <td>0.897065</td>\n",
              "      <td>0.753447</td>\n",
              "      <td>1.243499</td>\n",
              "      <td>0.685467</td>\n",
              "    </tr>\n",
              "    <tr>\n",
              "      <th>4</th>\n",
              "      <td>5.0</td>\n",
              "      <td>0.737560</td>\n",
              "      <td>0.804844</td>\n",
              "      <td>1.128353</td>\n",
              "      <td>0.715070</td>\n",
              "    </tr>\n",
              "    <tr>\n",
              "      <th>...</th>\n",
              "      <td>...</td>\n",
              "      <td>...</td>\n",
              "      <td>...</td>\n",
              "      <td>...</td>\n",
              "      <td>...</td>\n",
              "    </tr>\n",
              "    <tr>\n",
              "      <th>70</th>\n",
              "      <td>71.0</td>\n",
              "      <td>0.008149</td>\n",
              "      <td>0.998957</td>\n",
              "      <td>0.069660</td>\n",
              "      <td>0.960880</td>\n",
              "    </tr>\n",
              "    <tr>\n",
              "      <th>71</th>\n",
              "      <td>72.0</td>\n",
              "      <td>0.007588</td>\n",
              "      <td>0.999101</td>\n",
              "      <td>0.067789</td>\n",
              "      <td>0.961756</td>\n",
              "    </tr>\n",
              "    <tr>\n",
              "      <th>72</th>\n",
              "      <td>73.0</td>\n",
              "      <td>0.007049</td>\n",
              "      <td>0.999209</td>\n",
              "      <td>0.067367</td>\n",
              "      <td>0.962165</td>\n",
              "    </tr>\n",
              "    <tr>\n",
              "      <th>73</th>\n",
              "      <td>74.0</td>\n",
              "      <td>0.006551</td>\n",
              "      <td>0.999305</td>\n",
              "      <td>0.065257</td>\n",
              "      <td>0.963508</td>\n",
              "    </tr>\n",
              "    <tr>\n",
              "      <th>74</th>\n",
              "      <td>75.0</td>\n",
              "      <td>0.006089</td>\n",
              "      <td>0.999472</td>\n",
              "      <td>0.063781</td>\n",
              "      <td>0.964792</td>\n",
              "    </tr>\n",
              "  </tbody>\n",
              "</table>\n",
              "<p>75 rows × 5 columns</p>\n",
              "</div>"
            ],
            "text/plain": [
              "    epoch      loss       acc  val_loss   val_acc\n",
              "0     1.0  2.211238  0.532934  1.721928  0.613709\n",
              "1     2.0  1.395643  0.628474  1.516437  0.620307\n",
              "2     3.0  1.109151  0.693094  1.371950  0.643896\n",
              "3     4.0  0.897065  0.753447  1.243499  0.685467\n",
              "4     5.0  0.737560  0.804844  1.128353  0.715070\n",
              "..    ...       ...       ...       ...       ...\n",
              "70   71.0  0.008149  0.998957  0.069660  0.960880\n",
              "71   72.0  0.007588  0.999101  0.067789  0.961756\n",
              "72   73.0  0.007049  0.999209  0.067367  0.962165\n",
              "73   74.0  0.006551  0.999305  0.065257  0.963508\n",
              "74   75.0  0.006089  0.999472  0.063781  0.964792\n",
              "\n",
              "[75 rows x 5 columns]"
            ]
          },
          "metadata": {},
          "execution_count": 375
        }
      ]
    },
    {
      "cell_type": "code",
      "metadata": {
        "colab": {
          "base_uri": "https://localhost:8080/",
          "height": 573
        },
        "id": "WygpS4XEDd-M",
        "outputId": "b57b7321-8f0a-465f-a728-b7f24ee4330e"
      },
      "source": [
        "def plot_metric(df_history, metric):\n",
        "    plt.figure()\n",
        "    imgs_dir = \"./ritam\"\n",
        "\n",
        "    train_metrics = df_history[metric]\n",
        "    val_metrics = df_history['val_' + metric]  #\n",
        "\n",
        "    epochs = range(1, len(train_metrics) + 1)\n",
        "\n",
        "    plt.plot(epochs, train_metrics, 'bo--')\n",
        "    plt.plot(epochs, val_metrics, 'ro-')  #\n",
        "\n",
        "    plt.title('Training and validation ' + metric)\n",
        "    plt.xlabel(\"Epochs\")\n",
        "    plt.ylabel(metric)\n",
        "    plt.legend([\"train_\" + metric, 'val_' + metric])\n",
        "\n",
        "    plt.savefig(imgs_dir + metric + '.png')  # Save Pictures\n",
        "    plt.show()\n",
        "\n",
        "plot_metric(df_history, 'loss')\n",
        "plot_metric(df_history, metric_name)"
      ],
      "execution_count": null,
      "outputs": [
        {
          "output_type": "display_data",
          "data": {
            "image/png": "[encoded data removed]",
            "text/plain": [
              "<Figure size 432x288 with 1 Axes>"
            ]
          },
          "metadata": {
            "needs_background": "light"
          }
        },
        {
          "output_type": "display_data",
          "data": {
            "image/png": "[encoded data removed]",
            "text/plain": [
              "<Figure size 432x288 with 1 Axes>"
            ]
          },
          "metadata": {
            "needs_background": "light"
          }
        }
      ]
    },
    {
      "cell_type": "code",
      "metadata": {
        "id": "bKMs4mXklGi3"
      },
      "source": [
        "@torch.no_grad()\n",
        "# def eval_step(model, inps, tags):\n",
        "#     inps = torch.from_numpy(inps).to(device)\n",
        "#     tags = torch.from_numpy(tags).to(device)\n",
        "#     mask = torch.logical_not(torch.eq(inps, torch.tensor(0)))  # =>[b, seq_Len], each element is a bool value, and if there is a pad in the sequence, the corresponding position of the mask is False\n",
        "#     # mask = mask.type(torch.uint8)\n",
        "#     # mask = mask.to(device)\n",
        "\n",
        "#     # forward\n",
        "#     logits = model(inps)\n",
        "#     preds = model.crf_decode(logits, mask=mask, inp_logits=True)  # List[List]\n",
        "#     pred_without_pad = []\n",
        "#     for pred in preds:\n",
        "#         pred_without_pad.extend(pred)\n",
        "#     tags_without_pad = torch.masked_select(tags, mask).cpu()  # Return to 1-D Tensor\n",
        "\n",
        "#     return torch.tensor(pred_without_pad), tags_without_pad\n",
        "def test_step(model, inps, tags):\n",
        "    inps = torch.from_numpy(inps).to(device)\n",
        "    tags = torch.from_numpy(tags).to(device)\n",
        "    mask = torch.logical_not(torch.eq(inps, torch.tensor(0)))  # =>[batch, seq_Len], each element is a bool value, and if there is a pad in the sequence, the corresponding position of the mask is False\n",
        "    \n",
        "    mask = mask.type(torch.bool)\n",
        "    mask = mask.to(device)\n",
        "\n",
        "    model.eval()  # Set eval mode\n",
        "\n",
        "    # forward\n",
        "    logits = model(inps)\n",
        "    loss = model.crf_neg_log_likelihood(logits, tags.long(), mask=mask, inp_logits=True)\n",
        "\n",
        "    preds = model.crf_decode(logits, mask=mask, inp_logits=True)  # List[List]\n",
        "    pred_without_pad = []\n",
        "    for pred in preds:\n",
        "        pred_without_pad.extend(pred)\n",
        "    tags_without_pad = torch.masked_select(tags, mask).cpu()  # Return to 1-D Tensor\n",
        "    metric = metric_func(pred_without_pad, tags_without_pad)\n",
        "    # print('*' * 8, metric) # scalar\n",
        "\n",
        "    return torch.tensor(pred_without_pad), tags_without_pad, len(pred_without_pad)"
      ],
      "execution_count": null,
      "outputs": []
    },
    {
      "cell_type": "code",
      "metadata": {
        "id": "6tngoK36lGlu"
      },
      "source": [
        "def evaluate(model, X, Y):\n",
        "    model.eval()  # Set eval mode\n",
        "    starttime = time.time()\n",
        "    print('*' * 27, 'start evaluating...')\n",
        "    # printbar()\n",
        "    preds, labels = [], []\n",
        "    for step, (inps, tags) in enumerate(zip(X,Y), start=1):\n",
        "        pred, tags,_ = test_step(model, inps, tags)\n",
        "        preds.append(pred)\n",
        "        labels.append(tags)\n",
        "\n",
        "    y_true = torch.cat(labels, dim=0)\n",
        "    y_pred = torch.cat(preds, dim=0)\n",
        "    endtime = time.time()\n",
        "    print('evaluating costs: {:.2f}s'.format(endtime - starttime))\n",
        "    return y_true.cpu(), y_pred.cpu()"
      ],
      "execution_count": null,
      "outputs": []
    },
    {
      "cell_type": "code",
      "metadata": {
        "id": "2HoL28V1lGoI"
      },
      "source": [
        "from sklearn.metrics import precision_score,classification_report,f1_score,confusion_matrix,recall_score\n",
        "import seaborn as sns\n",
        "\n",
        "def get_metrics(y_true, y_pred):\n",
        "    average = 'weighted'\n",
        "    print('*'*27, average+'_precision_score:{:.3f}'.format(precision_score(y_true, y_pred, average=average)))\n",
        "    print('*'*27, average+'_recall_score:{:.3}'.format(recall_score(y_true, y_pred, average=average)))\n",
        "    print('*'*27, average+'_f1_score:{:.3f}'.format(f1_score(y_true, y_pred, average=average)))\n",
        "    print(\"Micro F1\",f1_score(y_true,y_pred,average='micro'))\n",
        "\n",
        "    print('*'*27, 'accuracy:{:.3f}'.format(accuracy_score(y_true, y_pred)))\n",
        "    print('*'*27, 'confusion_matrix:\\n', sns.heatmap(confusion_matrix(y_true, y_pred),xticklabels=2, yticklabels=False))\n",
        "    print('*'*27, 'classification_report:\\n', classification_report(y_true, y_pred))"
      ],
      "execution_count": null,
      "outputs": []
    },
    {
      "cell_type": "code",
      "metadata": {
        "colab": {
          "base_uri": "https://localhost:8080/",
          "height": 1000
        },
        "id": "hkogwYEdmIV2",
        "outputId": "32f4e25a-d9b1-4014-f3e7-1099af7ac921"
      },
      "source": [
        "print('vocab size:', len(word_index))\n",
        "\n",
        "# checkpoint = \"./ritam\" + 'epoch020_valacc0.843_ckpt.tar'\n",
        "PATH = \"./best_model.sav\"\n",
        "# Load Test Data\n",
        "# test_dloader = x_test_pad\n",
        "\n",
        "# Load Model\n",
        "reloaded_model = BiLSTM_CRF(vocab_size, hidden_size, embedding_dim, hidden_size,device=device)\n",
        "reloaded_model = reloaded_model.to(device)\n",
        "\n",
        "print('*' * 27, 'Loading model weights...')\n",
        "# ckpt = torch.load(checkpoint, map_location=device)  # Dict save loads to GPU on CPU\n",
        "reloaded_model.load_state_dict(torch.load(PATH))\n",
        "\n",
        "print('*' * 27, 'Model loaded success!')\n",
        "\n",
        "\n",
        "y_true, y_pred = evaluate(reloaded_model, x_test_batched , y_test_batched)\n",
        "get_metrics(y_true, y_pred)"
      ],
      "execution_count": null,
      "outputs": [
        {
          "output_type": "stream",
          "name": "stdout",
          "text": [
            "vocab size: 5969\n",
            "*************************** Loading model weights...\n",
            "*************************** Model loaded success!\n",
            "*************************** start evaluating...\n",
            "evaluating costs: 2.07s\n",
            "*************************** weighted_precision_score:0.872\n",
            "*************************** weighted_recall_score:0.88\n",
            "*************************** weighted_f1_score:0.874\n",
            "Micro F1 0.8798988621997472\n",
            "*************************** accuracy:0.880\n"
          ]
        },
        {
          "output_type": "stream",
          "name": "stderr",
          "text": [
            "/usr/local/lib/python3.7/dist-packages/sklearn/metrics/_classification.py:1272: UndefinedMetricWarning: Precision is ill-defined and being set to 0.0 in labels with no predicted samples. Use `zero_division` parameter to control this behavior.\n",
            "  _warn_prf(average, modifier, msg_start, len(result))\n"
          ]
        },
        {
          "output_type": "stream",
          "name": "stdout",
          "text": [
            "*************************** confusion_matrix:\n",
            " AxesSubplot(0.125,0.125;0.62x0.755)\n",
            "*************************** classification_report:\n",
            "               precision    recall  f1-score   support\n",
            "\n",
            "           1       0.91      0.96      0.93     14671\n",
            "           2       0.87      0.92      0.89      1107\n",
            "           3       0.87      0.81      0.84       812\n",
            "           4       0.86      0.82      0.84       802\n",
            "           5       0.82      0.70      0.76       670\n",
            "           6       0.84      0.84      0.84       692\n",
            "           7       0.87      0.93      0.90       565\n",
            "           8       0.68      0.63      0.66       500\n",
            "           9       0.62      0.38      0.47       415\n",
            "          10       0.62      0.56      0.59       461\n",
            "          11       0.91      0.92      0.92       490\n",
            "          12       0.89      0.69      0.78       424\n",
            "          13       0.81      0.77      0.79       435\n",
            "          14       0.81      0.81      0.81       379\n",
            "          15       0.88      0.74      0.80       435\n",
            "          16       0.89      0.80      0.84       220\n",
            "          17       0.86      0.65      0.74       219\n",
            "          18       0.80      0.41      0.55        99\n",
            "          19       0.52      0.32      0.39        85\n",
            "          20       0.65      0.27      0.39        62\n",
            "          21       0.58      0.40      0.47        53\n",
            "          22       0.21      0.07      0.11        56\n",
            "          23       0.10      0.03      0.04        40\n",
            "          24       0.83      0.67      0.74        30\n",
            "          25       0.00      0.00      0.00         8\n",
            "\n",
            "    accuracy                           0.88     23730\n",
            "   macro avg       0.71      0.60      0.64     23730\n",
            "weighted avg       0.87      0.88      0.87     23730\n",
            "\n"
          ]
        },
        {
          "output_type": "stream",
          "name": "stderr",
          "text": [
            "/usr/local/lib/python3.7/dist-packages/sklearn/metrics/_classification.py:1272: UndefinedMetricWarning: Precision and F-score are ill-defined and being set to 0.0 in labels with no predicted samples. Use `zero_division` parameter to control this behavior.\n",
            "  _warn_prf(average, modifier, msg_start, len(result))\n"
          ]
        },
        {
          "output_type": "display_data",
          "data": {
            "image/png": "[encoded data removed]",
            "text/plain": [
              "<Figure size 432x288 with 2 Axes>"
            ]
          },
          "metadata": {
            "needs_background": "light"
          }
        }
      ]
    },
    {
      "cell_type": "code",
      "metadata": {
        "id": "qQECeyhKOwoW"
      },
      "source": [
        ""
      ],
      "execution_count": null,
      "outputs": []
    }
  ]
}